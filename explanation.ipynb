{
 "cells": [
  {
   "cell_type": "markdown",
   "metadata": {},
   "source": [
    "## Mesafe Matrisi\n",
    "   Şehirler arasındaki mesafeleri (ya da maliyetleri) temsil eden bir mesafe matrisi hazırlanır. Bu matris, algoritmanın temel veri yapısını oluşturur."
   ]
  },
  {
   "cell_type": "markdown",
   "metadata": {},
   "source": [
    "## Genetik Algoritma Adımları\n",
    "1. Popülasyonun Başlatılması: Rotaları temsil eden başlangıç popülasyonu rastgele olarak oluşturulur.\n",
    "2. Uygunluk Fonksiyonunun Belirlenmesi: Her bireyin (rotanın) toplam maliyetini veya mesafesini hesaplayan bir uygunluk fonksiyonu geliştirilir.\n",
    "3. Seçilim Mekanizması: Uygunluk değeri yüksek olan bireyleri seçmek için bir seçilim yöntemi uygulanır.\n",
    "4. Çaprazlama ve Mutasyon İşlemleri: Yeni bireyler (rotalar) oluşturmak için genetik çaprazlama ve mutasyon işlemleri gerçekleştirilir.\n",
    "5. Tekrarlama: Belirlenen iterasyon sayısına veya uygunluk kriterine ulaşılana kadar süreç devam ettirilir."
   ]
  },
  {
   "cell_type": "markdown",
   "metadata": {},
   "source": [
    "## Algoritmanın Uygulanması\n",
    "   Algoritma, başlangıç popülasyonu ve belirtilen genetik işlemlerle yürütülerek optimum çözüm aranır. Her iterasyonda popülasyon geliştirilmeye çalışılır."
   ]
  },
  {
   "cell_type": "markdown",
   "metadata": {},
   "source": [
    "## Sonuçların Raporlanması\n",
    "   Elde edilen en kısa (veya en düşük maliyetli) rota ve toplam mesafe/maliyet kullanıcının anlayabileceği bir şekilde görselleştirilir veya raporlanır."
   ]
  }
 ],
 "metadata": {
  "language_info": {
   "name": "python"
  }
 },
 "nbformat": 4,
 "nbformat_minor": 2
}
